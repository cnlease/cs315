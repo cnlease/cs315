{
  "nbformat": 4,
  "nbformat_minor": 0,
  "metadata": {
    "colab": {
      "provenance": [],
      "include_colab_link": true
    },
    "kernelspec": {
      "name": "python3",
      "display_name": "Python 3"
    },
    "language_info": {
      "name": "python"
    }
  },
  "cells": [
    {
      "cell_type": "markdown",
      "metadata": {
        "id": "view-in-github",
        "colab_type": "text"
      },
      "source": [
        "<a href=\"https://colab.research.google.com/github/cnlease/cs315/blob/main/QuicksortPoCkey%20.ipynb\" target=\"_parent\"><img src=\"https://colab.research.google.com/assets/colab-badge.svg\" alt=\"Open In Colab\"/></a>"
      ]
    },
    {
      "cell_type": "code",
      "execution_count": null,
      "metadata": {
        "id": "t_LwP80OmwFK"
      },
      "outputs": [],
      "source": [
        "# Template for testing Quick-Sort on small lists, outputing each intermediate step"
      ]
    },
    {
      "cell_type": "code",
      "source": [
        "import random\n",
        "import time\n",
        "import math"
      ],
      "metadata": {
        "id": "LMcLd_etm-0Y"
      },
      "execution_count": 19,
      "outputs": []
    },
    {
      "cell_type": "code",
      "source": [
        "# Partition provided as a convenience\n",
        "\n",
        "def Partition(A,p,r):\n",
        "    x = A[r]\n",
        "    i = p - 1\n",
        "    for j in range(p,r):\n",
        "        if ( A[j] <= x ):\n",
        "            i = i + 1\n",
        "            #swap A[i] <--> A[j]\n",
        "            temp=A[i]\n",
        "            A[i]=A[j]\n",
        "            A[j]=temp\n",
        "    #swap A[i+1] <--> A[r]\n",
        "    temp=A[i+1]\n",
        "    A[i+1]=A[r]\n",
        "    A[r]=temp\n",
        "\n",
        "    return i + 1"
      ],
      "metadata": {
        "id": "TyWIYm1_nIYR"
      },
      "execution_count": 11,
      "outputs": []
    },
    {
      "cell_type": "code",
      "source": [
        "def median(p, r, h):\n",
        "  if((p <= r) and (r<=h)):\n",
        "    mid = r\n",
        "  if((r<=p) and (p <= h)):\n",
        "    mid =p"
      ],
      "metadata": {
        "id": "IEyUInzaXvfG",
        "outputId": "d33d5960-3672-4de3-c9f2-1bd219bc8b64",
        "colab": {
          "base_uri": "https://localhost:8080/",
          "height": 106
        }
      },
      "execution_count": 24,
      "outputs": [
        {
          "output_type": "error",
          "ename": "SyntaxError",
          "evalue": "expected ':' (ipython-input-696655502.py, line 1)",
          "traceback": [
            "\u001b[0;36m  File \u001b[0;32m\"/tmp/ipython-input-696655502.py\"\u001b[0;36m, line \u001b[0;32m1\u001b[0m\n\u001b[0;31m    def median(p, r, h)\u001b[0m\n\u001b[0m                       ^\u001b[0m\n\u001b[0;31mSyntaxError\u001b[0m\u001b[0;31m:\u001b[0m expected ':'\n"
          ]
        }
      ]
    },
    {
      "cell_type": "code",
      "source": [
        "def QuicksortTail(A,p,r,print_flag): #tail recursion\n",
        "    if p < r:\n",
        "        q  = Partition(A , p , r)\n",
        "        if(print_flag):\n",
        "          print(A)\n",
        "        QuicksortTail(A , p , q-1,print_flag)\n",
        "        QuicksortTail(A , q+1 , r,print_flag)"
      ],
      "metadata": {
        "id": "neX-YNcPnLpk"
      },
      "execution_count": 16,
      "outputs": []
    },
    {
      "cell_type": "code",
      "source": [
        "def QuicksortNTail(A,p,r,print_flag): #Tail-call elimination\n",
        "    while p<r:\n",
        "      median(A(p),A(r),A((p-r) / 2))\n",
        "      q = Partition(A,p,r)\n",
        "      if(print_flag):\n",
        "        print(A)\n",
        "      QuicksortNTail(A,p, q-1,print_flag)\n",
        "      p = q+1"
      ],
      "metadata": {
        "id": "mduKA33jTEtn"
      },
      "execution_count": 17,
      "outputs": []
    },
    {
      "cell_type": "code",
      "source": [
        "for i in range(1,4):\n",
        "  N = int(math.pow(10,i))\n",
        "  A = list(range(N))\n",
        "  random.shuffle(A)\n",
        "  start = time.time()\n",
        "  QuicksortTail(A,0,N-1,False)\n",
        "  end = time.time()\n",
        "  ratio=(end-start)/(N*math.log(N,2))\n",
        "  print(\"N = \", N, \"Time= \", end-start, \"Ratio= \", ratio)\n"
      ],
      "metadata": {
        "colab": {
          "base_uri": "https://localhost:8080/"
        },
        "id": "RVXFjLS0nCeo",
        "outputId": "59e06657-be71-42ed-e06d-e852e42a64ab"
      },
      "execution_count": 22,
      "outputs": [
        {
          "output_type": "stream",
          "name": "stdout",
          "text": [
            "N =  10 Time=  1.2636184692382812e-05 Ratio=  3.8038706231572636e-07\n",
            "N =  100 Time=  0.0001232624053955078 Ratio=  1.8552840680870802e-07\n",
            "N =  1000 Time=  0.003322601318359375 Ratio=  3.3340088681962025e-07\n"
          ]
        }
      ]
    },
    {
      "cell_type": "code",
      "source": [
        "for i in range(1,4):\n",
        "  N = int(math.pow(10,i))\n",
        "  A = list(range(N))\n",
        "  random.shuffle(A)\n",
        "  start = time.time()\n",
        "  QuicksortNTail(A,0,N-1,False)\n",
        "  end = time.time()\n",
        "  ratio=(end-start)/(N*math.log(N,2))\n",
        "  print(\"N = \", N, \"Time= \", end-start, \"Ratio= \", ratio)"
      ],
      "metadata": {
        "colab": {
          "base_uri": "https://localhost:8080/"
        },
        "id": "p2FXlCVcV_2v",
        "outputId": "38ba5025-d150-4c4c-ceb5-04b34138fa75"
      },
      "execution_count": 23,
      "outputs": [
        {
          "output_type": "stream",
          "name": "stdout",
          "text": [
            "N =  10 Time=  6.985664367675781e-05 Ratio=  2.1028945143114684e-06\n",
            "N =  100 Time=  6.0558319091796875e-05 Ratio=  9.114935266810801e-08\n",
            "N =  1000 Time=  0.0018455982208251953 Ratio=  1.851934748041533e-07\n"
          ]
        }
      ]
    },
    {
      "cell_type": "code",
      "source": [],
      "metadata": {
        "id": "ogyLJNQCWkiO"
      },
      "execution_count": null,
      "outputs": []
    }
  ]
}