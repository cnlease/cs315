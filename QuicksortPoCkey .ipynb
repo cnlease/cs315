{
  "nbformat": 4,
  "nbformat_minor": 0,
  "metadata": {
    "colab": {
      "provenance": [],
      "include_colab_link": true
    },
    "kernelspec": {
      "name": "python3",
      "display_name": "Python 3"
    },
    "language_info": {
      "name": "python"
    }
  },
  "cells": [
    {
      "cell_type": "markdown",
      "metadata": {
        "id": "view-in-github",
        "colab_type": "text"
      },
      "source": [
        "<a href=\"https://colab.research.google.com/github/cnlease/cs315/blob/main/QuicksortPoCkey%20.ipynb\" target=\"_parent\"><img src=\"https://colab.research.google.com/assets/colab-badge.svg\" alt=\"Open In Colab\"/></a>"
      ]
    },
    {
      "cell_type": "code",
      "execution_count": 1,
      "metadata": {
        "id": "t_LwP80OmwFK"
      },
      "outputs": [],
      "source": [
        "# Template for testing Quick-Sort on small lists, outputing each intermediate step"
      ]
    },
    {
      "cell_type": "code",
      "source": [
        "import random\n",
        "import time\n",
        "import math"
      ],
      "metadata": {
        "id": "LMcLd_etm-0Y"
      },
      "execution_count": 2,
      "outputs": []
    },
    {
      "cell_type": "code",
      "source": [
        "# Partition provided as a convenience\n",
        "\n",
        "def Partition(A,p,r):\n",
        "    x = A[r]\n",
        "    i = p - 1\n",
        "    for j in range(p,r):\n",
        "        if ( A[j] <= x ):\n",
        "            i = i + 1\n",
        "            #swap A[i] <--> A[j]\n",
        "            temp=A[i]\n",
        "            A[i]=A[j]\n",
        "            A[j]=temp\n",
        "    #swap A[i+1] <--> A[r]\n",
        "    temp=A[i+1]\n",
        "    A[i+1]=A[r]\n",
        "    A[r]=temp\n",
        "\n",
        "    return i + 1"
      ],
      "metadata": {
        "id": "TyWIYm1_nIYR"
      },
      "execution_count": 3,
      "outputs": []
    },
    {
      "cell_type": "code",
      "source": [
        "def median(A, p, r, h):\n",
        "  P = A[p]\n",
        "  R = A[r]\n",
        "  H = A[h]\n",
        "  if((p <= r) and (r<=h)):\n",
        "    return r\n",
        "  if((r<=p) and (p <= h)):\n",
        "    return p\n",
        "  if((r<=h) and (h<=p)):\n",
        "    return h\n",
        "  if((p<=h) and (h<=r)):\n",
        "    return h\n",
        "  if((h<=p) and (p<=r)):\n",
        "    return p\n",
        "  if((h<=r) and (r<=p)):\n",
        "    return r\n",
        ""
      ],
      "metadata": {
        "id": "IEyUInzaXvfG"
      },
      "execution_count": 4,
      "outputs": []
    },
    {
      "cell_type": "code",
      "source": [
        "def QuicksortTail(A,p,r,print_flag): #tail recursion\n",
        "    if p < r:\n",
        "        q  = Partition(A , p , r)\n",
        "        if(print_flag):\n",
        "          print(A)\n",
        "        QuicksortTail(A , p , q-1,print_flag)\n",
        "        QuicksortTail(A , q+1 , r,print_flag)"
      ],
      "metadata": {
        "id": "neX-YNcPnLpk"
      },
      "execution_count": 5,
      "outputs": []
    },
    {
      "cell_type": "code",
      "source": [
        "def QuicksortNTail(A,p,r,print_flag): #Tail-call elimination\n",
        "    while p<r:\n",
        "      # i = median(A,p,r,int((p-r) / 2))\n",
        "      # temp = A[i]\n",
        "      # A[i] = A[r]\n",
        "      # A[r] = temp\n",
        "      if(print_flag):\n",
        "        print(A)\n",
        "      q = Partition(A,p,r)\n",
        "      if(print_flag):\n",
        "        print(A)\n",
        "      QuicksortNTail(A,p, q-1,print_flag)\n",
        "      p = q+1"
      ],
      "metadata": {
        "id": "mduKA33jTEtn"
      },
      "execution_count": 6,
      "outputs": []
    },
    {
      "cell_type": "code",
      "source": [
        "for i in range(1,4):\n",
        "  N = int(math.pow(10,i))\n",
        "  A = list(range(N))\n",
        "  random.shuffle(A)\n",
        "  start = time.time()\n",
        "  QuicksortTail(A,0,N-1,False)\n",
        "  end = time.time()\n",
        "  ratio=(end-start)/(N*math.log(N,2))\n",
        "  print(\"N = \", N, \"Time= \", end-start, \"Ratio= \", ratio)\n"
      ],
      "metadata": {
        "colab": {
          "base_uri": "https://localhost:8080/"
        },
        "id": "RVXFjLS0nCeo",
        "outputId": "91cf6653-4a8f-41af-e8cb-3ddb8628d1ca"
      },
      "execution_count": 7,
      "outputs": [
        {
          "output_type": "stream",
          "name": "stdout",
          "text": [
            "N =  10 Time=  1.8596649169921875e-05 Ratio=  5.598149218986161e-07\n",
            "N =  100 Time=  0.00013446807861328125 Ratio=  2.0239462560949968e-07\n",
            "N =  1000 Time=  0.0021555423736572266 Ratio=  2.1629430379852086e-07\n"
          ]
        }
      ]
    },
    {
      "cell_type": "code",
      "source": [
        "for i in range(1,2):\n",
        "  N = int(math.pow(10,i))\n",
        "  A = list(range(N))\n",
        "  random.shuffle(A)\n",
        "  start = time.time()\n",
        "  QuicksortNTail(A,0,N-1,False)\n",
        "  end = time.time()\n",
        "  ratio=(end-start)/(N*math.log(N,2))\n",
        "  print(\"N = \", N, \"Time= \", end-start, \"Ratio= \", ratio, \"n math: \", N*math.log(N,2))"
      ],
      "metadata": {
        "colab": {
          "base_uri": "https://localhost:8080/"
        },
        "id": "p2FXlCVcV_2v",
        "outputId": "af1203aa-0aeb-4487-854e-a5ab19fb7d19"
      },
      "execution_count": 8,
      "outputs": [
        {
          "output_type": "stream",
          "name": "stdout",
          "text": [
            "N =  10 Time=  1.52587890625e-05 Ratio=  4.5933532053219784e-07 n math:  33.219280948873624\n"
          ]
        }
      ]
    },
    {
      "cell_type": "code",
      "source": [],
      "metadata": {
        "id": "ogyLJNQCWkiO"
      },
      "execution_count": 8,
      "outputs": []
    }
  ]
}