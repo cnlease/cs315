{
  "nbformat": 4,
  "nbformat_minor": 0,
  "metadata": {
    "colab": {
      "provenance": [],
      "include_colab_link": true
    },
    "kernelspec": {
      "name": "python3",
      "display_name": "Python 3"
    },
    "language_info": {
      "name": "python"
    }
  },
  "cells": [
    {
      "cell_type": "markdown",
      "metadata": {
        "id": "view-in-github",
        "colab_type": "text"
      },
      "source": [
        "<a href=\"https://colab.research.google.com/github/cnlease/cs315/blob/main/QuicksortPoCkey%20.ipynb\" target=\"_parent\"><img src=\"https://colab.research.google.com/assets/colab-badge.svg\" alt=\"Open In Colab\"/></a>"
      ]
    },
    {
      "cell_type": "code",
      "execution_count": 10,
      "metadata": {
        "id": "t_LwP80OmwFK"
      },
      "outputs": [],
      "source": [
        "# Template for testing Quick-Sort on small lists, outputing each intermediate step"
      ]
    },
    {
      "cell_type": "code",
      "source": [
        "import random\n",
        "import time\n",
        "import math"
      ],
      "metadata": {
        "id": "LMcLd_etm-0Y"
      },
      "execution_count": 11,
      "outputs": []
    },
    {
      "cell_type": "code",
      "source": [
        "# Partition provided as a convenience\n",
        "\n",
        "def Partition(A,p,r):\n",
        "    x = A[r]\n",
        "    i = p - 1\n",
        "    for j in range(p,r):\n",
        "        if ( A[j] <= x ):\n",
        "            i = i + 1\n",
        "            #swap A[i] <--> A[j]\n",
        "            temp=A[i]\n",
        "            A[i]=A[j]\n",
        "            A[j]=temp\n",
        "    #swap A[i+1] <--> A[r]\n",
        "    temp=A[i+1]\n",
        "    A[i+1]=A[r]\n",
        "    A[r]=temp\n",
        "\n",
        "    return i + 1"
      ],
      "metadata": {
        "id": "TyWIYm1_nIYR"
      },
      "execution_count": 12,
      "outputs": []
    },
    {
      "cell_type": "code",
      "source": [
        "def median(p, r, h):\n",
        "  if((p <= r) and (r<=h)):\n",
        "    mid = r\n",
        "  if((r<=p) and (p <= h)):\n",
        "    mid =p"
      ],
      "metadata": {
        "id": "IEyUInzaXvfG"
      },
      "execution_count": 13,
      "outputs": []
    },
    {
      "cell_type": "code",
      "source": [
        "def QuicksortTail(A,p,r,print_flag): #tail recursion\n",
        "    if p < r:\n",
        "        q  = Partition(A , p , r)\n",
        "        if(print_flag):\n",
        "          print(A)\n",
        "        QuicksortTail(A , p , q-1,print_flag)\n",
        "        QuicksortTail(A , q+1 , r,print_flag)"
      ],
      "metadata": {
        "id": "neX-YNcPnLpk"
      },
      "execution_count": 14,
      "outputs": []
    },
    {
      "cell_type": "code",
      "source": [
        "def QuicksortNTail(A,p,r,print_flag): #Tail-call elimination\n",
        "    while p<r:\n",
        "      median(A(p),A(r),A((p-r) / 2))\n",
        "      q = Partition(A,p,r)\n",
        "      if(print_flag):\n",
        "        print(A)\n",
        "      QuicksortNTail(A,p, q-1,print_flag)\n",
        "      p = q+1"
      ],
      "metadata": {
        "id": "mduKA33jTEtn"
      },
      "execution_count": 15,
      "outputs": []
    },
    {
      "cell_type": "code",
      "source": [
        "for i in range(1,3):\n",
        "  N = int(math.pow(10,i))\n",
        "  A = list(range(N))\n",
        "  random.shuffle(A)\n",
        "  start = time.time()\n",
        "  QuicksortTail(A,0,N-1,False)\n",
        "  end = time.time()\n",
        "  ratio=(end-start)/(N*math.log(N,2))\n",
        "  print(\"N = \", N, \"Time= \", end-start, \"Ratio= \", ratio)\n"
      ],
      "metadata": {
        "colab": {
          "base_uri": "https://localhost:8080/"
        },
        "id": "RVXFjLS0nCeo",
        "outputId": "c1bedf6f-92cd-4532-a25b-538aa8c5a606"
      },
      "execution_count": 16,
      "outputs": [
        {
          "output_type": "stream",
          "name": "stdout",
          "text": [
            "N =  10 Time=  1.1444091796875e-05 Ratio=  3.445014903991484e-07\n",
            "N =  100 Time=  6.031990051269531e-05 Ratio=  9.079049694894223e-08\n"
          ]
        }
      ]
    },
    {
      "cell_type": "code",
      "source": [
        "for i in range(1,3):\n",
        "  N = int(math.pow(10,i))\n",
        "  A = list(range(N))\n",
        "  #random.shuffle(A)\n",
        "  start = time.time()\n",
        "  #QuicksortNTail(A,0,N-1,False)\n",
        "  QuicksortTail(A,0,N-1,False)\n",
        "  end = time.time()\n",
        "  ratio=(end-start)/(pow(N,N))\n",
        "  print(\"N = \", N, \"Time= \", end-start, \"Ratio= \", ratio)"
      ],
      "metadata": {
        "colab": {
          "base_uri": "https://localhost:8080/"
        },
        "id": "p2FXlCVcV_2v",
        "outputId": "1c363d48-786c-4ae9-d783-428b719da3ee"
      },
      "execution_count": 17,
      "outputs": [
        {
          "output_type": "stream",
          "name": "stdout",
          "text": [
            "N =  10 Time=  1.7642974853515625e-05 Ratio=  5.311064643653537e-07\n",
            "N =  100 Time=  0.0007069110870361328 Ratio=  1.0640072073265364e-06\n"
          ]
        }
      ]
    },
    {
      "cell_type": "code",
      "source": [],
      "metadata": {
        "id": "ogyLJNQCWkiO"
      },
      "execution_count": 17,
      "outputs": []
    }
  ]
}