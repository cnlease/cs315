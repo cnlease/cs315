{
  "nbformat": 4,
  "nbformat_minor": 0,
  "metadata": {
    "colab": {
      "provenance": [],
      "include_colab_link": true
    },
    "kernelspec": {
      "name": "python3",
      "display_name": "Python 3"
    },
    "language_info": {
      "name": "python"
    }
  },
  "cells": [
    {
      "cell_type": "markdown",
      "metadata": {
        "id": "view-in-github",
        "colab_type": "text"
      },
      "source": [
        "<a href=\"https://colab.research.google.com/github/cnlease/cs315/blob/main/insertionPoC.ipynb\" target=\"_parent\"><img src=\"https://colab.research.google.com/assets/colab-badge.svg\" alt=\"Open In Colab\"/></a>"
      ]
    },
    {
      "cell_type": "code",
      "execution_count": 5,
      "metadata": {
        "id": "tZGwopH4Y7oL"
      },
      "outputs": [],
      "source": [
        "# Template for testing Insertion-Sort on small lists, outputing each intermediate step"
      ]
    },
    {
      "cell_type": "code",
      "source": [
        "import random\n",
        "import math\n",
        "import time"
      ],
      "metadata": {
        "id": "fSME9MywceAq"
      },
      "execution_count": 6,
      "outputs": []
    },
    {
      "cell_type": "code",
      "source": [
        "def insertion(A,print_flag):\n",
        "  for i in range(1,N):\n",
        "    key = A[i]\n",
        "    j = i-1\n",
        "    while (j>-1 and A[j]>key):\n",
        "      A[j+1] = A[j]\n",
        "      j = j-1\n",
        "    A[j+1] = key\n",
        "    if print_flag:\n",
        "      print(A)\n",
        "\n",
        "\n",
        "# For your convenience, here is the psuedocode from the textbook for Insertion-Sort\n",
        "# You can adapt it for this problem, there aren't many changes required\n",
        "# Note that N is defined in a different execution group and doesn't need to be a parameter\n",
        "# Also, it is nice to have a boolean flag controlling whether the intermediate result is printed\n",
        "# The psuedocode is written to be \"in-place,\" so the input list changes\n",
        "\n",
        "# Insertion-Sort(A,n)\n",
        "# for i=2 to n:\n",
        "#    key = A[i]\n",
        "# insert A[i] into sorted seq A[1]..A[i-1]\n",
        "#    j = i-1\n",
        "#    while j>0 and A[j]>key:\n",
        "#       A[j+1] = A[j]\n",
        "#       j = j-1\n",
        "#    A[j+1] = key"
      ],
      "metadata": {
        "id": "TJZL4jFQZhAp"
      },
      "execution_count": 7,
      "outputs": []
    },
    {
      "cell_type": "code",
      "source": [
        "print(\"non-sorted data\")\n",
        "for i in range(1,3):\n",
        "  N = int(math.pow(10,i))\n",
        "  A = list(range(N))\n",
        "  random.shuffle(A)\n",
        "  start = time.time()\n",
        "  insertion(A,False)\n",
        "  end = time.time()\n",
        "  ratio=(end-start)/(pow(N,N))\n",
        "  print(\"N = \", N, \"Time= \", end-start, \"Ratio= \", ratio)\n",
        "\n",
        "print(\"Sorted data\")\n",
        "for i in range(1,3):\n",
        "  N = int(math.pow(10,i))\n",
        "  A = list(range(N))\n",
        "  random.shuffle(A)\n",
        "  start = time.time()\n",
        "  insertion(A,False)\n",
        "  end = time.time()\n",
        "  ratio=(end-start)/(pow(N,N))\n",
        "  print(\"N = \", N, \"Time= \", end-start, \"Ratio= \", ratio)"
      ],
      "metadata": {
        "colab": {
          "base_uri": "https://localhost:8080/"
        },
        "id": "f1GS3NjwZqmS",
        "outputId": "8be8b9e6-5bee-483c-dda1-2a67407411df"
      },
      "execution_count": 8,
      "outputs": [
        {
          "output_type": "stream",
          "name": "stdout",
          "text": [
            "non-sorted data\n",
            "N =  10 Time=  5.9604644775390625e-06 Ratio=  5.960464477539063e-16\n",
            "N =  100 Time=  0.0001609325408935547 Ratio=  1.609325408935547e-204\n",
            "Sorted data\n",
            "N =  10 Time=  3.5762786865234375e-06 Ratio=  3.5762786865234375e-16\n",
            "N =  100 Time=  0.0001544952392578125 Ratio=  1.544952392578125e-204\n"
          ]
        }
      ]
    }
  ]
}