{
  "nbformat": 4,
  "nbformat_minor": 0,
  "metadata": {
    "colab": {
      "provenance": [],
      "authorship_tag": "ABX9TyN50d13S+kBpcL3XIyZps/Z",
      "include_colab_link": true
    },
    "kernelspec": {
      "name": "python3",
      "display_name": "Python 3"
    },
    "language_info": {
      "name": "python"
    }
  },
  "cells": [
    {
      "cell_type": "markdown",
      "metadata": {
        "id": "view-in-github",
        "colab_type": "text"
      },
      "source": [
        "<a href=\"https://colab.research.google.com/github/cnlease/cs315/blob/main/quickselect.ipynb\" target=\"_parent\"><img src=\"https://colab.research.google.com/assets/colab-badge.svg\" alt=\"Open In Colab\"/></a>"
      ]
    },
    {
      "cell_type": "code",
      "execution_count": null,
      "metadata": {
        "id": "uJNQB0sgdZ7h"
      },
      "outputs": [],
      "source": [
        "import random\n",
        "import math\n",
        "import time\n",
        "\n",
        "def quickselect(A, i):\n",
        "  if len(A) == 1:\n",
        "    return A[0]\n",
        "  pivot = random.choice(A)\n",
        "  lows = [x for x in A if x < pivot]\n",
        "  highs = [x for x in A if x > pivot]\n",
        "  pivots = [x for x in A if x == pivot]\n",
        "  if i <= len(lows):\n",
        "    return quickselect(lows, i)\n",
        "  elif i <= len(lows) + len(pivots):\n",
        "    return pivot\n",
        "  else:\n",
        "    return quickselect(highs, i - len(lows) - len(pivots))"
      ]
    },
    {
      "cell_type": "code",
      "source": [
        "for i in range(1,10):\n",
        "  N = int(math.pow(10,i))\n",
        "  A=[]\n",
        "  for p in range(N):\n",
        "    A.append(random.randint(0,N))\n",
        "  random.shuffle(A)\n",
        "  #print(A)\n",
        "  i = random.choice(A)\n",
        "  start = time.time()\n",
        "  q = quickselect(A,i)\n",
        "  end = time.time()\n",
        "  #print(\"The \", i,\"th element is \", q)\n",
        "  ratio=(end-start)/(N)\n",
        "  print(\"N = \", N, \"Time= \", end-start, \"Ratio= \", ratio)"
      ],
      "metadata": {
        "colab": {
          "base_uri": "https://localhost:8080/"
        },
        "id": "2HiOQSKsdgmN",
        "outputId": "f72f7200-d1dd-48cf-c36b-71b48fdf9c5f"
      },
      "execution_count": null,
      "outputs": [
        {
          "output_type": "stream",
          "name": "stdout",
          "text": [
            "N =  10 Time=  1.3828277587890625e-05 Ratio=  1.3828277587890625e-06\n",
            "N =  100 Time=  2.3365020751953125e-05 Ratio=  2.3365020751953125e-07\n",
            "N =  1000 Time=  0.00028324127197265625 Ratio=  2.8324127197265624e-07\n",
            "N =  10000 Time=  0.003763914108276367 Ratio=  3.763914108276367e-07\n",
            "N =  100000 Time=  0.027698040008544922 Ratio=  2.769804000854492e-07\n",
            "N =  1000000 Time=  0.3197212219238281 Ratio=  3.197212219238281e-07\n",
            "N =  10000000 Time=  20.12321972846985 Ratio=  2.012321972846985e-06\n"
          ]
        }
      ]
    }
  ]
}