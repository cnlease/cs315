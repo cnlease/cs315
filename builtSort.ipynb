{
  "nbformat": 4,
  "nbformat_minor": 0,
  "metadata": {
    "colab": {
      "provenance": [],
      "authorship_tag": "ABX9TyPp9rp2jA87fYZDAsMJCUYD",
      "include_colab_link": true
    },
    "kernelspec": {
      "name": "python3",
      "display_name": "Python 3"
    },
    "language_info": {
      "name": "python"
    }
  },
  "cells": [
    {
      "cell_type": "markdown",
      "metadata": {
        "id": "view-in-github",
        "colab_type": "text"
      },
      "source": [
        "<a href=\"https://colab.research.google.com/github/cnlease/cs315/blob/main/builtSort.ipynb\" target=\"_parent\"><img src=\"https://colab.research.google.com/assets/colab-badge.svg\" alt=\"Open In Colab\"/></a>"
      ]
    },
    {
      "cell_type": "code",
      "execution_count": 2,
      "metadata": {
        "id": "RGTA3FjNSdrE"
      },
      "outputs": [],
      "source": [
        "#Cassie 10/5\n",
        "#using sort functions and timing them\n",
        "import time\n",
        "import random\n",
        "import math"
      ]
    },
    {
      "cell_type": "code",
      "source": [
        "for i in range(1,3):\n",
        "  N = int(math.pow(10,i))\n",
        "  A = list(range(N))\n",
        "  random.shuffle(A)\n",
        "  start = time.time()\n",
        "  A.sort()\n",
        "  end = time.time()\n",
        "  ratio=(end-start)/(pow(N,N))\n",
        "  print(\"N = \", N, \"Time= \", end-start, \"Ratio= \", ratio)\n",
        "\n",
        "print(\"sorted\")\n",
        "for i in range(1,3):\n",
        "  N = int(math.pow(10,i))\n",
        "  A = list(range(N))\n",
        "  random.shuffle(A)\n",
        "  start = time.time()\n",
        "  A.sort()\n",
        "  end = time.time()\n",
        "  ratio=(end-start)/(pow(N,N))\n",
        "  print(\"N = \", N, \"Time= \", end-start, \"Ratio= \", ratio)\n",
        "\n",
        "  #With the results of the ratios, I found n^2 is most likely the\n",
        "  #asymptotic run time because the values are the closest to 0"
      ],
      "metadata": {
        "colab": {
          "base_uri": "https://localhost:8080/"
        },
        "id": "W_9SOtKDTQ5p",
        "outputId": "d3c248ce-1e28-4642-9da9-f3b764936c26"
      },
      "execution_count": 19,
      "outputs": [
        {
          "output_type": "stream",
          "name": "stdout",
          "text": [
            "N =  10 Time=  1.6689300537109375e-06 Ratio=  1.6689300537109374e-16\n",
            "N =  100 Time=  7.152557373046875e-06 Ratio=  7.152557373046876e-206\n",
            "sorted\n",
            "N =  10 Time=  1.1920928955078125e-06 Ratio=  1.1920928955078126e-16\n",
            "N =  100 Time=  7.152557373046875e-06 Ratio=  7.152557373046876e-206\n"
          ]
        }
      ]
    }
  ]
}